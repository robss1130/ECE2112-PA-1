{
 "cells": [
  {
   "cell_type": "markdown",
   "id": "4201c5a9-31f1-44b8-a396-2c8998d1e08e",
   "metadata": {},
   "source": [
    "**Alphabet Soup Problem**\n",
    "#To create a function that will arrange the characters of a word in alphabetical order"
   ]
  },
  {
   "cell_type": "code",
   "execution_count": 1,
   "id": "00db5cb7-9964-4a81-acc6-7118d76e804b",
   "metadata": {},
   "outputs": [
    {
     "name": "stdout",
     "output_type": "stream",
     "text": [
      "Your word alphabetically sorted is: ehllo\n"
     ]
    }
   ],
   "source": [
    "def organizer(word):\n",
    "    sorted = \"\"\n",
    "    while word: #Create a while loop that will utilize the the max function which arranges the word alphabetically based on their ascii value\n",
    "        ascii = max(word)\n",
    "        word = word.replace(ascii, \"\", 1)\n",
    "        sorted = ascii + sorted\n",
    "    return sorted\n",
    "\n",
    "user_input = input(\"Enter a word you wish to sort alphabetically: \") #Ask user for input\n",
    "sorted = organizer(user_input) #Call the function\n",
    "print(\"Your word alphabetically sorted is: \" + str(sorted)) #Display the word sorted alphabetically"
   ]
  },
  {
   "cell_type": "raw",
   "id": "20cf4f34-7180-4fab-b349-62d0583819a2",
   "metadata": {},
   "source": [
    "**Emoticon Problem**\n",
    "#Create a function that will replace specific words with emotes"
   ]
  },
  {
   "cell_type": "code",
   "execution_count": 2,
   "id": "da4edff7-1f63-49d6-96f9-b0c8f1391aa9",
   "metadata": {},
   "outputs": [
    {
     "name": "stdout",
     "output_type": "stream",
     "text": [
      "Your sentence with emote is: I'm :((\n"
     ]
    }
   ],
   "source": [
    "def translator(entered):\n",
    "    emotes = {\"smile\":\":)\", \"grin\":\":D\", \"sad\":\":((\", \"mad\":\">:(\"} #use dictionary to assign specific words with a value equivalent to the emote\n",
    "\n",
    "    for word, emote in emotes.items(): #Use replace function to replace the key word with its corresponding emote\n",
    "        entered = entered.replace(word, emote)\n",
    "\n",
    "    return entered\n",
    "    \n",
    "user_input = input(\"Enter your sentence: \") #Ask user for input\n",
    "translated = translator(user_input) #Call the function\n",
    "print(\"Your sentence with emote is: \" + str(translated)) #Print the output "
   ]
  },
  {
   "cell_type": "markdown",
   "id": "29eb54bd-eb67-41e8-941c-d173ebd241a7",
   "metadata": {},
   "source": [
    "**Unpacking Problem**\n",
    "#Write a code that will unpack a list into three variables"
   ]
  },
  {
   "cell_type": "code",
   "execution_count": 4,
   "id": "cd7f2d6d-22df-4e03-8120-28cd8d2459db",
   "metadata": {},
   "outputs": [
    {
     "name": "stdout",
     "output_type": "stream",
     "text": [
      "first: 1 middle: [2, 3, 4, 5] last: 6\n"
     ]
    }
   ],
   "source": [
    "def unpack(given):\n",
    "    if len(given) < 3: #use length function to ensure that there will be at least 3 elements\n",
    "        raise Error(\"List must at least have more than two elements.\")\n",
    "\n",
    "    first = None\n",
    "    middle = []\n",
    "    last = None\n",
    "\n",
    "    #Use a while loop that will unpack the list\n",
    "    i = 0\n",
    "    while i < len(given):\n",
    "        if i == 0:\n",
    "            first = given[i]\n",
    "        elif i == len(given) - 1:\n",
    "            last = given[i]\n",
    "        else:\n",
    "            middle.append(given[i])\n",
    "        i += 1\n",
    "\n",
    "    #Print the variables\n",
    "    print(f\"first: {first} middle: {middle} last: {last}\")\n",
    "\n",
    "given = [1, 2, 3, 4, 5, 6]\n",
    "unpack(given)"
   ]
  },
  {
   "cell_type": "code",
   "execution_count": null,
   "id": "4621fef0",
   "metadata": {},
   "outputs": [],
   "source": []
  }
 ],
 "metadata": {
  "kernelspec": {
   "display_name": "Python 3 (ipykernel)",
   "language": "python",
   "name": "python3"
  },
  "language_info": {
   "codemirror_mode": {
    "name": "ipython",
    "version": 3
   },
   "file_extension": ".py",
   "mimetype": "text/x-python",
   "name": "python",
   "nbconvert_exporter": "python",
   "pygments_lexer": "ipython3",
   "version": "3.12.5"
  }
 },
 "nbformat": 4,
 "nbformat_minor": 5
}
